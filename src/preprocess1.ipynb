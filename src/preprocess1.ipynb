{
 "cells": [
  {
   "cell_type": "code",
   "execution_count": null,
   "metadata": {},
   "outputs": [],
   "source": [
    "import numpy as np\n",
    "import glob\n",
    "import os\n",
    "import cv2\n",
    "import matplotlib.pyplot as plt\n",
    "%matplotlib inline"
   ]
  },
  {
   "cell_type": "code",
   "execution_count": null,
   "metadata": {},
   "outputs": [],
   "source": [
    "data_path = '../data/'\n",
    "img_file = glob.glob(os.path.join(data_path, 'original_img/*'))"
   ]
  },
  {
   "cell_type": "code",
   "execution_count": null,
   "metadata": {},
   "outputs": [],
   "source": [
    "name = []\n",
    "name.append('dummy.jpg')\n",
    "name.append('joker.jpg')\n",
    "for suite in ['s', 'h', 'd', 'c']:\n",
    "    for num in range(1,14):\n",
    "        name.append(suite+str(num)+'.jpg')\n",
    "name.append('back.jpg')"
   ]
  },
  {
   "cell_type": "code",
   "execution_count": null,
   "metadata": {},
   "outputs": [],
   "source": [
    "img = cv2.imread(img_file[1])\n",
    "img = img[0:2000, :2000]\n",
    "gray = cv2.cvtColor(img, cv2.COLOR_BGR2GRAY)\n",
    "plt.imshow(gray, cmap='gray')"
   ]
  },
  {
   "cell_type": "code",
   "execution_count": null,
   "metadata": {
    "scrolled": true
   },
   "outputs": [],
   "source": [
    "ret, thresh = cv2.threshold(gray, 80, 255, cv2.THRESH_TOZERO_INV)\n",
    "ret, thresh = cv2.threshold(1-thresh, 80, 255, cv2.THRESH_TOZERO_INV)\n",
    "plt.imshow(thresh, cmap='gray')"
   ]
  },
  {
   "cell_type": "code",
   "execution_count": null,
   "metadata": {},
   "outputs": [],
   "source": [
    "thresh2 = cv2.adaptiveThreshold(gray, 255, cv2.ADAPTIVE_THRESH_GAUSSIAN_C, cv2.THRESH_BINARY_INV, 99, 20)\n",
    "plt.imshow(thresh2, cmap='gray')"
   ]
  },
  {
   "cell_type": "code",
   "execution_count": null,
   "metadata": {},
   "outputs": [],
   "source": [
    "thresh3 = cv2.threshold(gray, 0, 255, cv2.THRESH_BINARY_INV+cv2.THRESH_OTSU)[1]\n",
    "plt.imshow(thresh3, cmap='gray')"
   ]
  },
  {
   "cell_type": "code",
   "execution_count": null,
   "metadata": {},
   "outputs": [],
   "source": [
    "contours = cv2.findContours(thresh, cv2.RETR_LIST, cv2.CHAIN_APPROX_SIMPLE)[1]\n",
    "th_area = img.shape[0] * img.shape[1] / 100\n",
    "contours_large = list(filter(lambda c:cv2.contourArea(c) > th_area, contours))\n",
    "\n",
    "approxes = []\n",
    "for (i,cnt) in enumerate(contours_large):\n",
    "    arclen = cv2.arcLength(cnt, True)\n",
    "    approx = cv2.approxPolyDP(cnt, 0.1*arclen, True)\n",
    "    if len(approx) < 4:\n",
    "        continue\n",
    "    approxes.append(approx)\n",
    "    \n",
    "test = np.copy(img)\n",
    "cv2.polylines(test, approxes,True,(255,0,0),10)\n",
    "plt.imshow(test)"
   ]
  },
  {
   "cell_type": "code",
   "execution_count": null,
   "metadata": {},
   "outputs": [],
   "source": [
    "def erase_marks(img):\n",
    "    nlabels, labels, stats, centroids = cv2.connectedComponentsWithStats(img)\n",
    "    areas = stats[:,4]\n",
    "    areas<100000\n",
    "    for i in np.argwhere(areas<100000):\n",
    "        img[labels==i] = 0\n",
    "    return img"
   ]
  },
  {
   "cell_type": "code",
   "execution_count": null,
   "metadata": {},
   "outputs": [],
   "source": [
    "erase = np.copy(thresh3)\n",
    "close_kernel = np.ones((3,3),np.uint8)\n",
    "closing = cv2.morphologyEx(erase, cv2.MORPH_CLOSE, close_kernel, iterations=10)\n",
    "\n",
    "connected = erase_marks(closing)\n",
    "\n",
    "erode_kernel = np.ones((3,3),np.uint8)\n",
    "dilation = 255 - cv2.dilate(connected, erode_kernel, iterations = 2)\n",
    "plt.imshow(dilation, cmap='gray')"
   ]
  },
  {
   "cell_type": "code",
   "execution_count": null,
   "metadata": {},
   "outputs": [],
   "source": []
  },
  {
   "cell_type": "code",
   "execution_count": null,
   "metadata": {},
   "outputs": [],
   "source": [
    "def get_maxmin(img):\n",
    "    # img: crop region must be 0 and else 255\n",
    "    non_zero = np.argwhere(img==255)\n",
    "    x_min = np.min(non_zero[:,0])\n",
    "    y_min = np.min(non_zero[:,1])\n",
    "    x_max = np.max(non_zero[:,0])\n",
    "    y_max = np.max(non_zero[:,1])\n",
    "    return x_min, y_min, x_max, y_max"
   ]
  },
  {
   "cell_type": "code",
   "execution_count": null,
   "metadata": {},
   "outputs": [],
   "source": [
    "from scipy.ndimage.interpolation import rotate\n",
    "def calc_area(img):\n",
    "    x_min, y_min, x_max, y_max = get_maxmin(img)\n",
    "    return (x_max-x_min) * (y_max-y_min)\n",
    "\n",
    "def rotate_min(img):\n",
    "    # rotate img so that crop region is minimum\n",
    "    area = calc_area(img)\n",
    "    angle = 0.0\n",
    "    num_try = 0\n",
    "    while True:\n",
    "        angle += 0.2\n",
    "        img = rotate(img, angle)\n",
    "        new_area = calc_area(img)\n",
    "        if new_area > area:\n",
    "            num_try += 1\n",
    "            if num_try == 3:\n",
    "                break\n",
    "        else:\n",
    "            num_try = 0\n",
    "            area = new_area\n",
    "    if angle == 0.2:\n",
    "        num_try = 0\n",
    "        angle = 0.0\n",
    "        while True:\n",
    "            angle -= 0.2\n",
    "            img = rotate(img, angle)\n",
    "            new_area = calc_area(img)\n",
    "            if new_area > area:\n",
    "                if num_try == 3:\n",
    "                    break\n",
    "            else:\n",
    "                num_try = 0\n",
    "                area = new_area\n",
    "    if angle == -0.2:\n",
    "        angle = 0.0\n",
    "    return angle"
   ]
  },
  {
   "cell_type": "code",
   "execution_count": null,
   "metadata": {},
   "outputs": [],
   "source": [
    "angle = rotate_min(dilation)"
   ]
  },
  {
   "cell_type": "code",
   "execution_count": null,
   "metadata": {},
   "outputs": [],
   "source": [
    "plt.imshow(dilation, cmap='gray')"
   ]
  },
  {
   "cell_type": "code",
   "execution_count": null,
   "metadata": {},
   "outputs": [],
   "source": [
    "plt.imshow(rotate(dilation, 1.4), cmap='gray')"
   ]
  },
  {
   "cell_type": "code",
   "execution_count": null,
   "metadata": {},
   "outputs": [],
   "source": [
    "new_img = np.c_[img, np.expand_dims(dilation, axis=-1)]\n",
    "new_img = rotate(new_img, angle)"
   ]
  },
  {
   "cell_type": "code",
   "execution_count": null,
   "metadata": {},
   "outputs": [],
   "source": [
    "x_min, y_min, x_max, y_max = get_maxmin(rotate(dilation, angle))\n",
    "# x_min, y_min, x_max, y_max = get_maxmin(dilation)\n",
    "new_img = new_img[x_min-1:x_max+1, y_min-1:y_max+1]"
   ]
  },
  {
   "cell_type": "code",
   "execution_count": null,
   "metadata": {},
   "outputs": [],
   "source": [
    "file_name = img_file[0].split('/')[-1]\n",
    "save_dir = os.path.join(data_path, 'cards_data', file_name)\n",
    "cv2.imwrite('test4.png', new_img)"
   ]
  },
  {
   "cell_type": "code",
   "execution_count": null,
   "metadata": {},
   "outputs": [],
   "source": []
  }
 ],
 "metadata": {
  "kernelspec": {
   "display_name": "Python 3",
   "language": "python",
   "name": "python3"
  },
  "language_info": {
   "codemirror_mode": {
    "name": "ipython",
    "version": 3
   },
   "file_extension": ".py",
   "mimetype": "text/x-python",
   "name": "python",
   "nbconvert_exporter": "python",
   "pygments_lexer": "ipython3",
   "version": "3.6.4"
  }
 },
 "nbformat": 4,
 "nbformat_minor": 2
}
